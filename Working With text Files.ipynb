{
 "cells": [
  {
   "cell_type": "markdown",
   "metadata": {},
   "source": [
    "# Reading text file"
   ]
  },
  {
   "cell_type": "code",
   "execution_count": 41,
   "metadata": {},
   "outputs": [],
   "source": [
    "#Opening file in read mode(r,w,al)\n",
    "file_object=open('Datasets\\sample.txt','r')"
   ]
  },
  {
   "cell_type": "code",
   "execution_count": 20,
   "metadata": {},
   "outputs": [
    {
     "name": "stdout",
     "output_type": "stream",
     "text": [
      "<_io.TextIOWrapper name='Datasets\\\\sample.txt' mode='r' encoding='cp1252'>\n"
     ]
    }
   ],
   "source": [
    "print(file_object)"
   ]
  },
  {
   "cell_type": "code",
   "execution_count": 21,
   "metadata": {},
   "outputs": [
    {
     "name": "stdout",
     "output_type": "stream",
     "text": [
      "My name is Shivam Patel.\n",
      "I am from Konch.\n",
      "How are you?\n",
      "I am fine.\n",
      "Hello\n",
      "My name is Shivam Patel.\n",
      "I am from Konch.\n",
      "How are you?\n",
      "I am fine.\n",
      "Hello\n",
      "\n",
      "My name is Shivam Patel.\n",
      "I am from Konch.\n",
      "How are you?\n",
      "I am fine.\n",
      "Hello\n",
      "\n",
      "My name is Shivam Patel.\n",
      "I am from Konch.\n",
      "How are you?\n",
      "I am fine.\n",
      "Hello\n",
      "My name is Shivam Patel.\n",
      "I am from Konch.\n",
      "How are you?\n",
      "I am fine.\n",
      "Hello\n",
      "My name is Shivam Patel.\n",
      "I am from Konch.\n",
      "How are you?\n",
      "I am fine.\n",
      "Hello\n",
      "My name is Shivam Patel.\n",
      "I am from Konch.\n",
      "How are you?\n",
      "I am fine.\n",
      "Hello\n",
      "\n",
      "My name is Shivam Patel.\n",
      "I am from Konch.\n",
      "How are you?\n",
      "I am fine.\n",
      "Hello\n",
      "My name is Shivam Patel.\n",
      "I am from Konch.\n",
      "How are you?\n",
      "I am fine.\n",
      "Hello\n",
      "\n",
      "My name is Shivam Patel.\n",
      "I am from Konch.\n",
      "How are you?\n",
      "I am fine.\n",
      "Hello\n",
      "\n",
      "My name is Shivam Patel.\n",
      "I am from Konch.\n",
      "How are you?\n",
      "I am fine.\n",
      "Hello\n",
      "\n",
      "My name is Shivam Patel.\n",
      "I am from Konch.\n",
      "How are you?\n",
      "I am fine.\n",
      "Hello\n",
      "\n",
      "My name is Shivam Patel.\n",
      "I am from Konch.\n",
      "How are you?\n",
      "I am fine.\n",
      "Hello\n",
      "\n"
     ]
    }
   ],
   "source": [
    "#read the file data\n",
    "file_data=file_object.read()\n",
    "print(file_data)"
   ]
  },
  {
   "cell_type": "code",
   "execution_count": 26,
   "metadata": {},
   "outputs": [
    {
     "name": "stdout",
     "output_type": "stream",
     "text": [
      "My name is Shivam Patel.\n"
     ]
    }
   ],
   "source": [
    "# to read the file data of specific bytes\n",
    "file_data1=file_object.read(24)#To read specific bytes of data\n",
    "print(file_data1)"
   ]
  },
  {
   "cell_type": "code",
   "execution_count": 27,
   "metadata": {},
   "outputs": [
    {
     "name": "stdout",
     "output_type": "stream",
     "text": [
      "\n",
      "\n",
      "I am from Ko\n"
     ]
    }
   ],
   "source": [
    "#To read the file by line\n",
    "file_data2=file_object.readline()\n",
    "print(file_data2)\n",
    "file_data3=file_object.readline(12)#No of bytes ie. min(12,current_lines_byte)\n",
    "print(file_data3)"
   ]
  },
  {
   "cell_type": "code",
   "execution_count": 37,
   "metadata": {},
   "outputs": [
    {
     "name": "stdout",
     "output_type": "stream",
     "text": [
      "My name is Shivam Patel.\n",
      "\n"
     ]
    }
   ],
   "source": [
    "#For reading particular line\n",
    "file_data4=file_object.readlines()  #It returns list\n",
    "print(file_data4[0])"
   ]
  },
  {
   "cell_type": "code",
   "execution_count": 38,
   "metadata": {},
   "outputs": [
    {
     "data": {
      "text/plain": [
       "'I am from Konch.\\n'"
      ]
     },
     "execution_count": 38,
     "metadata": {},
     "output_type": "execute_result"
    }
   ],
   "source": [
    "file_data4[1]"
   ]
  },
  {
   "cell_type": "code",
   "execution_count": 39,
   "metadata": {},
   "outputs": [],
   "source": [
    "#close the file\n",
    "file_object.close()"
   ]
  },
  {
   "cell_type": "code",
   "execution_count": 45,
   "metadata": {},
   "outputs": [
    {
     "name": "stdout",
     "output_type": "stream",
     "text": [
      "How are you?\n",
      "\n"
     ]
    }
   ],
   "source": [
    "#Another way to open a file\n",
    "with open('Datasets\\sample.txt','r') as file_obj:\n",
    "    file_data=file_obj.readlines()\n",
    "print(file_data[2])"
   ]
  },
  {
   "cell_type": "code",
   "execution_count": null,
   "metadata": {},
   "outputs": [],
   "source": []
  }
 ],
 "metadata": {
  "kernelspec": {
   "display_name": "Python 3",
   "language": "python",
   "name": "python3"
  },
  "language_info": {
   "codemirror_mode": {
    "name": "ipython",
    "version": 3
   },
   "file_extension": ".py",
   "mimetype": "text/x-python",
   "name": "python",
   "nbconvert_exporter": "python",
   "pygments_lexer": "ipython3",
   "version": "3.6.5"
  }
 },
 "nbformat": 4,
 "nbformat_minor": 2
}
