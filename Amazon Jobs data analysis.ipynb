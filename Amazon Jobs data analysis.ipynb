{
 "cells": [
  {
   "cell_type": "code",
   "execution_count": 18,
   "metadata": {},
   "outputs": [],
   "source": [
    "#Importing Dataset\n",
    "import csv\n",
    "with open('Datasets\\Amazon_jobs_dataset.csv',encoding='utf-8') as file_obj:\n",
    "    file_data=csv.reader(file_obj)"
   ]
  },
  {
   "cell_type": "code",
   "execution_count": 24,
   "metadata": {},
   "outputs": [
    {
     "name": "stdout",
     "output_type": "stream",
     "text": [
      "14\n"
     ]
    }
   ],
   "source": [
    "#What are the total number of job openings related to Computer Vision ?\n",
    "import csv\n",
    "title='Computer Vision'\n",
    "lines=0\n",
    "openings_cv=0\n",
    "mydict=dict()\n",
    "with open('Datasets\\Amazon_jobs_dataset.csv',encoding='utf-8') as file_obj:\n",
    "    file_data=csv.reader(file_obj)\n",
    "    next(file_data)\n",
    "    for row in file_data:\n",
    "        if title in row[1]:\n",
    "#             mydict[row[1]]=mydict.get(row[1],0)+1\n",
    "            openings_cv+=1\n",
    "#         lines+=1\n",
    "print(openings_cv)\n",
    "# print(mydict)\n",
    "            "
   ]
  },
  {
   "cell_type": "code",
   "execution_count": 45,
   "metadata": {},
   "outputs": [
    {
     "name": "stdout",
     "output_type": "stream",
     "text": [
      "Count Bangalore: 66 Count Seattle: 1856\n"
     ]
    }
   ],
   "source": [
    "#Find number of job openings in Bangalore,IN and in Seattle,US?\n",
    "import csv\n",
    "loc1='Bangalore'\n",
    "loc2='Seattle'\n",
    "lines=0\n",
    "openings_cv_loc1=0\n",
    "openings_cv_loc2=0\n",
    "mydict=dict()\n",
    "with open('Datasets\\Amazon_jobs_dataset.csv',encoding='utf-8') as file_obj:\n",
    "    file_data=csv.reader(file_obj)\n",
    "    next(file_data)\n",
    "    for row in file_data:\n",
    "        if loc1 in row[2]:\n",
    "            openings_cv_loc1+=1\n",
    "        elif loc2 in row[2]:\n",
    "            openings_cv_loc2+=1\n",
    "print('Count Bangalore:',openings_cv_loc1,'Count Seattle:',openings_cv_loc2)"
   ]
  },
  {
   "cell_type": "code",
   "execution_count": 46,
   "metadata": {},
   "outputs": [
    {
     "name": "stdout",
     "output_type": "stream",
     "text": [
      "113\n"
     ]
    }
   ],
   "source": [
    "#Find the number of job openings in Canada?\n",
    "import csv\n",
    "loc1='CA, BC'\n",
    "lines=0\n",
    "openings_cv_loc1=0\n",
    "mydict=dict()\n",
    "with open('Datasets\\Amazon_jobs_dataset.csv',encoding='utf-8') as file_obj:\n",
    "    file_data=csv.reader(file_obj)\n",
    "    next(file_data)\n",
    "    for row in file_data:\n",
    "        if loc1 in row[2]:\n",
    "            openings_cv_loc1+=1\n",
    "print(openings_cv_loc1)"
   ]
  },
  {
   "cell_type": "code",
   "execution_count": 5,
   "metadata": {},
   "outputs": [
    {
     "name": "stdout",
     "output_type": "stream",
     "text": [
      "{}\n"
     ]
    }
   ],
   "source": [
    "#Find the month having most job openings in Year 2018 ?\n",
    "import csv\n",
    "month_list=['January','February','March','April','May','June','July','August','September','October','November','December']\n",
    "dict_month={}\n",
    "with open('Datasets\\Amazon_jobs_dataset.csv',encoding='utf-8') as file_obj:\n",
    "    file_data=csv.reader(file_obj)\n",
    "    next(file_data)\n",
    "    for row in file_data:\n",
    "        for i in month_list:\n",
    "            if i in row[2]:\n",
    "                if i in dict_month:\n",
    "                    dict_month[i]+=1\n",
    "                else:\n",
    "                    dict_month[i]=1\n",
    "                    \n",
    "print(dict_month)"
   ]
  },
  {
   "cell_type": "code",
   "execution_count": 10,
   "metadata": {},
   "outputs": [
    {
     "name": "stdout",
     "output_type": "stream",
     "text": [
      "3493\n"
     ]
    }
   ],
   "source": [
    "#Find the number of job openings are present if applicant have Bachelor degree?\n",
    "import csv\n",
    "degrees=('Bachelor','BS','BA')\n",
    "count=0\n",
    "with open('Datasets\\Amazon_jobs_dataset.csv',encoding='utf-8') as file_obj:\n",
    "    file_data=csv.reader(file_obj)\n",
    "    next(file_data)#To skip first line\n",
    "    for row in file_data:\n",
    "        if degrees[0] or degrees[1] or degrees[2] in row[5]:\n",
    "            count+=1\n",
    "print(count)\n"
   ]
  },
  {
   "cell_type": "code",
   "execution_count": 23,
   "metadata": {},
   "outputs": [
    {
     "name": "stdout",
     "output_type": "stream",
     "text": [
      "3493\n"
     ]
    }
   ],
   "source": [
    "#To append row to a new list from dataset(Aliter to above question)\n",
    "import csv\n",
    "count=0\n",
    "basic_qualifications=[]\n",
    "with open('Datasets\\Amazon_jobs_dataset.csv',encoding='utf-8') as file_obj:\n",
    "    file_data=csv.DictReader(file_obj)\n",
    "    for row in file_data:\n",
    "        basic_qualifications.append(row['BASIC QUALIFICATIONS'])\n",
    "# print(basic_qualifications)\n",
    "#Find the number of job openings are present if applicant have Bachelor degree? 'Bachelor','BS','BA'\n",
    "arrlist=[]\n",
    "for i in basic_qualifications:\n",
    "    if i is 'Bachelor'or 'BS'or 'BA':\n",
    "        arrlist.append(i)\n",
    "print(len(arrlist))"
   ]
  },
  {
   "cell_type": "code",
   "execution_count": 70,
   "metadata": {},
   "outputs": [
    {
     "name": "stdout",
     "output_type": "stream",
     "text": [
      "110\n",
      "java\n"
     ]
    }
   ],
   "source": [
    "#Among Java, C++ and Python, which of the language has more job openings in India for Bachelor Degree Holder?\n",
    "import csv\n",
    "country='IN'\n",
    "python=0\n",
    "cpp=0\n",
    "java=0\n",
    "country_basic_qualification=[]\n",
    "degrees=('Bachelor','BS','BA')\n",
    "with open('Datasets\\Amazon_jobs_dataset.csv',encoding='utf-8') as file_obj:\n",
    "    file_data=csv.DictReader(file_obj)\n",
    "    for row in file_data:\n",
    "        country_basic_qualification.append([row['location'],row['BASIC QUALIFICATIONS']])\n",
    "# print(country_basic_qualification)\n",
    "arrlist=[]\n",
    "for i in country_basic_qualification:\n",
    "    if i[0].split(',')[0]=='IN':\n",
    "        arrlist.append(i[1])\n",
    "# print(arrlist)\n",
    "arrlist1=[]\n",
    "for i in arrlist:\n",
    "    if 'Bachelor'or 'BS'or 'BA' in i:\n",
    "        arrlist1.append(i)\n",
    "# print(arrlist1)\n",
    "for i in arrlist1:\n",
    "    if 'Java' in i:\n",
    "        java+=1\n",
    "    elif 'C++' in i:\n",
    "        cpp+=1\n",
    "    elif 'Python' in i:\n",
    "        python+=1\n",
    "maxdict={java:'java',cpp:'cpp',python:'python'}\n",
    "maxvar=max(maxdict)\n",
    "print(maxvar)#gives the value\n",
    "print(maxdict.get(max(maxdict)))"
   ]
  },
  {
   "cell_type": "code",
   "execution_count": 103,
   "metadata": {},
   "outputs": [
    {
     "name": "stdout",
     "output_type": "stream",
     "text": [
      "{'US': 2004, 'IN': 110, 'CA': 111, 'RO': 9, 'PL': 17, 'AE': 1, 'ES': 13, 'IL': 2, 'DE': 19, 'UK': 38, 'SG': 1, 'AU': 9, 'IE': 30, 'CN': 14, 'MX': 2, 'NL': 2, 'ZA': 12, 'FR': 2, 'JO': 2, 'TW': 4, 'LU': 6, 'BR': 8, 'JP': 4, 'IT': 1, '': 1}\n",
      "2004\n",
      "ZA\n",
      "12\n"
     ]
    }
   ],
   "source": [
    "#Find the country does Amazon need the most number of Java Developer?\n",
    "import csv\n",
    "java=0\n",
    "country_basic_qualification=[]\n",
    "degrees=('Bachelor','BS','BA')\n",
    "with open('Datasets\\Amazon_jobs_dataset.csv',encoding='utf-8') as file_obj:\n",
    "    file_data=csv.DictReader(file_obj,skipinitialspace=True)\n",
    "    for row in file_data:\n",
    "        country_basic_qualification.append([row['location'],row['BASIC QUALIFICATIONS']])\n",
    "#We already have country_basic_qualification which has location and basic qualification details so we can get the fields which has \"Java\"\n",
    "arrlist=[]\n",
    "for i in country_basic_qualification:\n",
    "    if 'Java' in i[1]:\n",
    "        arrlist.append(i[0].split(',')[0])\n",
    "dictCountry={}\n",
    "for i in arrlist:\n",
    "    if i in dictCountry:\n",
    "        dictCountry[i]+=1\n",
    "    else:\n",
    "        dictCountry[i]=1\n",
    "print(dictCountry)\n",
    "print(dictCountry['US'])\n",
    "print(max(dictCountry))\n",
    "print(dictCountry.get(max(dictCountry)))"
   ]
  },
  {
   "cell_type": "code",
   "execution_count": null,
   "metadata": {},
   "outputs": [],
   "source": []
  }
 ],
 "metadata": {
  "kernelspec": {
   "display_name": "Python 3",
   "language": "python",
   "name": "python3"
  },
  "language_info": {
   "codemirror_mode": {
    "name": "ipython",
    "version": 3
   },
   "file_extension": ".py",
   "mimetype": "text/x-python",
   "name": "python",
   "nbconvert_exporter": "python",
   "pygments_lexer": "ipython3",
   "version": "3.6.5"
  }
 },
 "nbformat": 4,
 "nbformat_minor": 2
}
