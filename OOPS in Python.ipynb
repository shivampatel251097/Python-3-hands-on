{
 "cells": [
  {
   "cell_type": "code",
   "execution_count": 39,
   "metadata": {},
   "outputs": [
    {
     "name": "stdout",
     "output_type": "stream",
     "text": [
      "<class 'int'>\n"
     ]
    }
   ],
   "source": [
    "#Each variable has class\n",
    "a=10\n",
    "print(type(a))"
   ]
  },
  {
   "cell_type": "code",
   "execution_count": 40,
   "metadata": {},
   "outputs": [
    {
     "name": "stdout",
     "output_type": "stream",
     "text": [
      "<class 'list'>\n"
     ]
    }
   ],
   "source": [
    "l=[1,2,3]\n",
    "print(type(l))"
   ]
  },
  {
   "cell_type": "code",
   "execution_count": 41,
   "metadata": {},
   "outputs": [],
   "source": [
    "#Making class in python\n",
    "class student:\n",
    "    pass #when you want to leave class empty\n",
    "#making objects\n",
    "s1=student()\n",
    "s2=student()\n",
    "s3=student()"
   ]
  },
  {
   "cell_type": "code",
   "execution_count": 42,
   "metadata": {},
   "outputs": [],
   "source": [
    "#Adding instance attributes to the object\n",
    "s1.name=\"Shivam\"\n",
    "s1.age=22\n",
    "s2.rollno=101\n",
    "s3.age=21"
   ]
  },
  {
   "cell_type": "code",
   "execution_count": 43,
   "metadata": {},
   "outputs": [
    {
     "name": "stdout",
     "output_type": "stream",
     "text": [
      "{'name': 'Shivam', 'age': 22}\n",
      "{'rollno': 101}\n",
      "{'age': 21}\n"
     ]
    }
   ],
   "source": [
    "#To access the object we have syntax: obj.__dict__\n",
    "print(s1.__dict__)\n",
    "print(s2.__dict__)\n",
    "print(s3.__dict__)"
   ]
  },
  {
   "cell_type": "code",
   "execution_count": 44,
   "metadata": {},
   "outputs": [
    {
     "data": {
      "text/plain": [
       "'Shivam'"
      ]
     },
     "execution_count": 44,
     "metadata": {},
     "output_type": "execute_result"
    }
   ],
   "source": [
    "#To print the attribute of particular object\n",
    "s1.name"
   ]
  },
  {
   "cell_type": "code",
   "execution_count": 45,
   "metadata": {},
   "outputs": [
    {
     "ename": "AttributeError",
     "evalue": "'student' object has no attribute 'name'",
     "output_type": "error",
     "traceback": [
      "\u001b[1;31m---------------------------------------------------------------------------\u001b[0m",
      "\u001b[1;31mAttributeError\u001b[0m                            Traceback (most recent call last)",
      "\u001b[1;32m<ipython-input-45-9bb901741173>\u001b[0m in \u001b[0;36m<module>\u001b[1;34m()\u001b[0m\n\u001b[1;32m----> 1\u001b[1;33m \u001b[0ms2\u001b[0m\u001b[1;33m.\u001b[0m\u001b[0mname\u001b[0m\u001b[1;31m# it will give error as s2 obj has no attribute name\u001b[0m\u001b[1;33m\u001b[0m\u001b[0m\n\u001b[0m",
      "\u001b[1;31mAttributeError\u001b[0m: 'student' object has no attribute 'name'"
     ]
    }
   ],
   "source": [
    "s2.name# it will give error as s2 obj has no attribute name"
   ]
  },
  {
   "cell_type": "code",
   "execution_count": 46,
   "metadata": {},
   "outputs": [
    {
     "name": "stdout",
     "output_type": "stream",
     "text": [
      "True\n",
      "False\n"
     ]
    }
   ],
   "source": [
    "#To check whether the obj has following attribute\n",
    "print(hasattr(s1,\"name\"))   #Return T/F\n",
    "print(hasattr(s3,\"name\"))   #Return T/F"
   ]
  },
  {
   "cell_type": "code",
   "execution_count": 47,
   "metadata": {},
   "outputs": [
    {
     "name": "stdout",
     "output_type": "stream",
     "text": [
      "Shivam\n"
     ]
    },
    {
     "ename": "AttributeError",
     "evalue": "'student' object has no attribute 'name'",
     "output_type": "error",
     "traceback": [
      "\u001b[1;31m---------------------------------------------------------------------------\u001b[0m",
      "\u001b[1;31mAttributeError\u001b[0m                            Traceback (most recent call last)",
      "\u001b[1;32m<ipython-input-47-b87c3aa4b015>\u001b[0m in \u001b[0;36m<module>\u001b[1;34m()\u001b[0m\n\u001b[0;32m      1\u001b[0m \u001b[1;31m#getattr fn\u001b[0m\u001b[1;33m\u001b[0m\u001b[1;33m\u001b[0m\u001b[0m\n\u001b[0;32m      2\u001b[0m \u001b[0mprint\u001b[0m\u001b[1;33m(\u001b[0m\u001b[0mgetattr\u001b[0m\u001b[1;33m(\u001b[0m\u001b[0ms1\u001b[0m\u001b[1;33m,\u001b[0m\u001b[1;34m'name'\u001b[0m\u001b[1;33m)\u001b[0m\u001b[1;33m)\u001b[0m\u001b[1;33m\u001b[0m\u001b[0m\n\u001b[1;32m----> 3\u001b[1;33m \u001b[0mprint\u001b[0m\u001b[1;33m(\u001b[0m\u001b[0mgetattr\u001b[0m\u001b[1;33m(\u001b[0m\u001b[0ms3\u001b[0m\u001b[1;33m,\u001b[0m\u001b[1;34m'name'\u001b[0m\u001b[1;33m)\u001b[0m\u001b[1;33m)\u001b[0m  \u001b[1;31m#will give error as have no attribute name in s3\u001b[0m\u001b[1;33m\u001b[0m\u001b[0m\n\u001b[0m",
      "\u001b[1;31mAttributeError\u001b[0m: 'student' object has no attribute 'name'"
     ]
    }
   ],
   "source": [
    "#getattr fn\n",
    "print(getattr(s1,'name'))\n",
    "print(getattr(s3,'name'))  #will give error as have no attribute name in s3\n"
   ]
  },
  {
   "cell_type": "code",
   "execution_count": 48,
   "metadata": {},
   "outputs": [
    {
     "name": "stdout",
     "output_type": "stream",
     "text": [
      "{'age': 22}\n"
     ]
    }
   ],
   "source": [
    "#delattr for delete attr\n",
    "delattr(s1,'name')\n",
    "print(s1.__dict__)\n"
   ]
  },
  {
   "cell_type": "code",
   "execution_count": 49,
   "metadata": {},
   "outputs": [
    {
     "name": "stdout",
     "output_type": "stream",
     "text": [
      "{'age': 21, 'name': 'Patel'}\n"
     ]
    }
   ],
   "source": [
    "#SETATTR use to set any attribute in object\n",
    "setattr(s3,\"name\",\"Patel\")\n",
    "print(s3.__dict__)"
   ]
  },
  {
   "cell_type": "code",
   "execution_count": 50,
   "metadata": {},
   "outputs": [
    {
     "name": "stdout",
     "output_type": "stream",
     "text": [
      "{'__module__': '__main__', '__dict__': <attribute '__dict__' of 'student' objects>, '__weakref__': <attribute '__weakref__' of 'student' objects>, '__doc__': None, 'total_student': 10}\n"
     ]
    }
   ],
   "source": [
    "#Class Attributes\n",
    "student.total_student=10\n",
    "print(student.__dict__)"
   ]
  },
  {
   "cell_type": "code",
   "execution_count": 55,
   "metadata": {},
   "outputs": [
    {
     "name": "stdout",
     "output_type": "stream",
     "text": [
      "{'__module__': '__main__', 'total_students': 50, 'class_teachername': 'Komal', '__dict__': <attribute '__dict__' of 'Students' objects>, '__weakref__': <attribute '__weakref__' of 'Students' objects>, '__doc__': None}\n"
     ]
    }
   ],
   "source": [
    "class Students:\n",
    "    #class attributes\n",
    "    total_students=50\n",
    "    class_teachername='Komal'\n",
    "\n",
    "s1=Students()\n",
    "s2=Students()#objects\n",
    "print(Students.__dict__)"
   ]
  },
  {
   "cell_type": "code",
   "execution_count": 62,
   "metadata": {},
   "outputs": [
    {
     "name": "stdout",
     "output_type": "stream",
     "text": [
      "50\n",
      "50\n"
     ]
    }
   ],
   "source": [
    "#we can also access class attributes using class objects\n",
    "print(Students.total_students)# accessing by claSS NAME\n",
    "print(s1.total_students) #accesing by class object"
   ]
  },
  {
   "cell_type": "code",
   "execution_count": 64,
   "metadata": {},
   "outputs": [
    {
     "name": "stdout",
     "output_type": "stream",
     "text": [
      "5\n",
      "5\n",
      "{}\n",
      "{}\n"
     ]
    }
   ],
   "source": [
    "#we can upadate the value of total_students\n",
    "Students.total_students=5\n",
    "print(Students.total_students)# accessing by claSS NAME\n",
    "print(s1.total_students) #accesing by class object\n",
    "print(s1.__dict__)\n",
    "print(s2.__dict__)"
   ]
  },
  {
   "cell_type": "code",
   "execution_count": 65,
   "metadata": {},
   "outputs": [
    {
     "name": "stdout",
     "output_type": "stream",
     "text": [
      "5\n",
      "100\n",
      "{'total_students': 100}\n",
      "{}\n"
     ]
    }
   ],
   "source": [
    "#But if change the value of total_students with the help of object then it will make object attribute whose key is total_students\n",
    "s1.total_students=100\n",
    "print(Students.total_students)# accessing by claSS NAME\n",
    "print(s1.total_students) #accesing by class object\n",
    "print(s1.__dict__)\n",
    "print(s2.__dict__)"
   ]
  },
  {
   "cell_type": "markdown",
   "metadata": {},
   "source": [
    "# Instance methods"
   ]
  },
  {
   "cell_type": "code",
   "execution_count": 81,
   "metadata": {},
   "outputs": [],
   "source": [
    "#Instance methods\n",
    "class printing:\n",
    "    string='car'\n",
    "    cylinder=5\n",
    "    #instance method\n",
    "    def printstring(self):#here self is reference to the current object its mandatory to pass fro every instance method\n",
    "        print(\"My name is Shivam.\")\n",
    "    def printingByPassingArgument(self,engine):\n",
    "        print('My car has '+engine+ ' engines.')\n",
    "    def printname(self):\n",
    "        name=\"abc\"\n",
    "        print(name)# It will print abc\n",
    "        print(self.name)#to print the instance variable name we have to access it using reference variable self\n",
    "        \n",
    "s1=printing()\n",
    "s2=printing()\n",
    "s1.name=\"Mohan\""
   ]
  },
  {
   "cell_type": "code",
   "execution_count": 77,
   "metadata": {},
   "outputs": [
    {
     "name": "stdout",
     "output_type": "stream",
     "text": [
      "My name is Shivam\n"
     ]
    }
   ],
   "source": [
    "s1.printstring()"
   ]
  },
  {
   "cell_type": "code",
   "execution_count": 78,
   "metadata": {},
   "outputs": [
    {
     "name": "stdout",
     "output_type": "stream",
     "text": [
      "My car has 4 engines\n"
     ]
    }
   ],
   "source": [
    "s2.printingByPassingArgument(\"4\")"
   ]
  },
  {
   "cell_type": "code",
   "execution_count": 80,
   "metadata": {},
   "outputs": [
    {
     "name": "stdout",
     "output_type": "stream",
     "text": [
      "My name is Shivam\n"
     ]
    }
   ],
   "source": [
    "#To call the funtion using class name we have to pass any object as an argument otherwise it will throw error\n",
    "printing.printstring(s1)"
   ]
  },
  {
   "cell_type": "code",
   "execution_count": 82,
   "metadata": {},
   "outputs": [
    {
     "name": "stdout",
     "output_type": "stream",
     "text": [
      "abc\n",
      "Mohan\n"
     ]
    }
   ],
   "source": [
    "s1.printname()"
   ]
  },
  {
   "cell_type": "code",
   "execution_count": 111,
   "metadata": {},
   "outputs": [],
   "source": [
    "#We can also create instance attribute using mathods\n",
    "#Instance methods\n",
    "class Printing:\n",
    "    string='car'\n",
    "    cylinder=5\n",
    "    #instance method\n",
    "    def printstring(self):#here self is reference to the current object its mandatory to pass fro every instance method\n",
    "        print(\"My name is Shivam.\")\n",
    "    def printingByPassingArgument(self,engine):\n",
    "        print('My car has '+engine+ ' engines.')\n",
    "    def printname(self):\n",
    "        name=\"abc\"\n",
    "        print(name)# It will print abc\n",
    "        print(self.name)#to print the instance variable name we have to access it using reference variable self\n",
    "    def addname(self,name):\n",
    "        self.name=name\n",
    "    def printcylinder(self):\n",
    "        Printing.cylinder=25 # We can change the value of cylinder in fn.\n",
    "        print(Printing.cylinder)# TO print class variable we have to access with class name\n",
    "        \n",
    "s1=Printing()\n",
    "s2=Printing()"
   ]
  },
  {
   "cell_type": "code",
   "execution_count": 112,
   "metadata": {},
   "outputs": [
    {
     "name": "stdout",
     "output_type": "stream",
     "text": [
      "{}\n",
      "{}\n"
     ]
    }
   ],
   "source": [
    "print(s1.__dict__)\n",
    "print(s2.__dict__)\n",
    "s1.addname('Vasu')"
   ]
  },
  {
   "cell_type": "code",
   "execution_count": 113,
   "metadata": {},
   "outputs": [
    {
     "name": "stdout",
     "output_type": "stream",
     "text": [
      "{'name': 'Vasu'}\n",
      "{}\n"
     ]
    }
   ],
   "source": [
    "s1.addname('Vasu')\n",
    "print(s1.__dict__) #The instance argument will be created {name:Vasu}\n",
    "print(s2.__dict__) #This will be emty as we are using s1 object"
   ]
  },
  {
   "cell_type": "code",
   "execution_count": 114,
   "metadata": {},
   "outputs": [
    {
     "name": "stdout",
     "output_type": "stream",
     "text": [
      "{'name': 'Shivam'}\n",
      "{}\n"
     ]
    }
   ],
   "source": [
    "s1.addname('Shivam')\n",
    "print(s1.__dict__) #The instance argument will be updated from {name:Vasu} to {name:Shivam}\n",
    "print(s2.__dict__) #This will be emty as we are using s1 object"
   ]
  },
  {
   "cell_type": "code",
   "execution_count": 115,
   "metadata": {},
   "outputs": [
    {
     "name": "stdout",
     "output_type": "stream",
     "text": [
      "25\n"
     ]
    }
   ],
   "source": [
    "s1.printcylinder()"
   ]
  },
  {
   "cell_type": "markdown",
   "metadata": {},
   "source": [
    "# Constructor"
   ]
  },
  {
   "cell_type": "code",
   "execution_count": 122,
   "metadata": {},
   "outputs": [],
   "source": [
    "#Constructor is a special instance method which is used to initialize the properties of vector when we make object the consturctot is called\n",
    "#we have a default constructor of each class in python implicitly but when making constructor explicitly then the ours one will be working\n",
    "def __init__(self):\n",
    "    print('Constructor is called!')\n",
    "    pass\n",
    "#Instance methods\n",
    "class printing:\n",
    "    string='car'\n",
    "    cylinder=5\n",
    "    #constructor\n",
    "    def __init__(self,name,age,rno=101):#here rno value is set 1010 default value it will return whenever we dont pass rno inobject\n",
    "        self.name=name\n",
    "        self.age=age\n",
    "        self.rollNumber= rno\n",
    "    #instance method\n",
    "    def printstring(self):#here self is reference to the current object its mandatory to pass fro every instance method\n",
    "        print(\"My name is Shivam.\")\n",
    "    def printingByPassingArgument(self,engine):\n",
    "        print('My car has '+engine+ ' engines.')\n",
    "    def printname(self):\n",
    "        name=\"abc\"\n",
    "        print(name)# It will print abc\n",
    "        print(self.name)#to print the instance variable name we have to access it using reference variable self\n",
    "        \n",
    "s1=printing('Shivam',23,23)#we have to pass the same no. of arguments as we have in constructor except self as it is referencing var\n",
    "s2=printing('Vasu',21,1)\n",
    "s3=printing('Satyam',22)"
   ]
  },
  {
   "cell_type": "code",
   "execution_count": 123,
   "metadata": {},
   "outputs": [
    {
     "name": "stdout",
     "output_type": "stream",
     "text": [
      "{'name': 'Shivam', 'age': 23, 'rollNumber': 23}\n",
      "{'name': 'Vasu', 'age': 21, 'rollNumber': 1}\n",
      "{'name': 'Satyam', 'age': 22, 'rollNumber': 101}\n"
     ]
    }
   ],
   "source": [
    "print(s1.__dict__)\n",
    "print(s2.__dict__)\n",
    "print(s3.__dict__)"
   ]
  },
  {
   "cell_type": "code",
   "execution_count": 125,
   "metadata": {},
   "outputs": [
    {
     "ename": "IndentationError",
     "evalue": "unexpected indent (<ipython-input-125-b8f6e74c6e1f>, line 2)",
     "output_type": "error",
     "traceback": [
      "\u001b[1;36m  File \u001b[1;32m\"<ipython-input-125-b8f6e74c6e1f>\"\u001b[1;36m, line \u001b[1;32m2\u001b[0m\n\u001b[1;33m    def __init__(self,name,*args):\u001b[0m\n\u001b[1;37m    ^\u001b[0m\n\u001b[1;31mIndentationError\u001b[0m\u001b[1;31m:\u001b[0m unexpected indent\n"
     ]
    }
   ],
   "source": [
    "#To pass multiple arguments in constructor we use *args\n",
    " def __init__(self,name,*args):\n",
    "        self.name=name\n",
    "        self.age=age\n",
    "        self.rollNumber= rno"
   ]
  },
  {
   "cell_type": "markdown",
   "metadata": {},
   "source": [
    "# Assess Modifiers"
   ]
  },
  {
   "cell_type": "code",
   "execution_count": 176,
   "metadata": {},
   "outputs": [],
   "source": [
    "#To make any var private we use __ before it.\n",
    "def __init__(self):\n",
    "    print('Constructor is called!')\n",
    "    pass\n",
    "#Instance methods\n",
    "class printing:\n",
    "    string='car'\n",
    "    cylinder=5\n",
    "    #constructor\n",
    "    def __init__(self,name,age,rno=101):#here rno value is set 1010 default value it will return whenever we dont pass rno inobject\n",
    "        self.__name=name\n",
    "        self.age=age\n",
    "        self.rollNumber= rno\n",
    "    #instance method\n",
    "    def setName(self,name):\n",
    "        self.__name=name\n",
    "    def getName(self):\n",
    "        return self.__name\n",
    "    def printname(self):\n",
    "        name=\"abc\"\n",
    "        print(name)# It will print abc\n",
    "        print(self.__name)#to print the instance variable name we have to access it using reference variable self\n",
    "s1=printing(\"ShivamP\",15)"
   ]
  },
  {
   "cell_type": "code",
   "execution_count": 183,
   "metadata": {},
   "outputs": [
    {
     "name": "stdout",
     "output_type": "stream",
     "text": [
      "abc\n",
      "Patel\n",
      "Patel\n",
      "Patel\n",
      "{'_printing__name': 'Patel', 'age': 15, 'rollNumber': 101}\n"
     ]
    }
   ],
   "source": [
    "s1.printname() \n",
    "print(s1._printing__name) #To print the private variable syntax: object._classname__variable\n",
    "s1._printing__name=\"Patel\"\n",
    "print(s1._printing__name)\n",
    "print(s1.__dict__)"
   ]
  },
  {
   "cell_type": "code",
   "execution_count": 182,
   "metadata": {},
   "outputs": [
    {
     "data": {
      "text/plain": [
       "'Patel'"
      ]
     },
     "execution_count": 182,
     "metadata": {},
     "output_type": "execute_result"
    }
   ],
   "source": [
    "s1.getName()"
   ]
  },
  {
   "cell_type": "code",
   "execution_count": 179,
   "metadata": {},
   "outputs": [],
   "source": [
    "s1.setName('Prabha')"
   ]
  },
  {
   "cell_type": "code",
   "execution_count": 180,
   "metadata": {},
   "outputs": [
    {
     "data": {
      "text/plain": [
       "'Prabha'"
      ]
     },
     "execution_count": 180,
     "metadata": {},
     "output_type": "execute_result"
    }
   ],
   "source": [
    "s1.getName()"
   ]
  },
  {
   "cell_type": "markdown",
   "metadata": {},
   "source": [
    "# Class Methods and Static methods"
   ]
  },
  {
   "cell_type": "code",
   "execution_count": 199,
   "metadata": {},
   "outputs": [],
   "source": [
    "#Class Methods\n",
    "class printing:\n",
    "    string='car'\n",
    "    __cylinder=5\n",
    "    @ classmethod\n",
    "    def getTotalCylinders(cls):\n",
    "        return printing.__cylinder\n",
    "    #constructor\n",
    "    def __init__(self,name,age,rno=101):#here rno value is set 1010 default value it will return whenever we dont pass rno inobject\n",
    "        self.__name=name\n",
    "        self.age=age\n",
    "        self.rollNumber= rno\n",
    "    #instance method\n",
    "    def setName(self,name):\n",
    "        self.__name=name\n",
    "    def getName(self):\n",
    "        return self.__name\n",
    "    def printname(self):\n",
    "        name=\"abc\"\n",
    "        print(name)# It will print abc\n",
    "        print(self.__name)#to print the instance variable name we have to access it using reference variable self\n",
    "s1=printing(\"ShivamP\",15)"
   ]
  },
  {
   "cell_type": "code",
   "execution_count": 201,
   "metadata": {},
   "outputs": [
    {
     "name": "stdout",
     "output_type": "stream",
     "text": [
      "5\n",
      "5\n"
     ]
    }
   ],
   "source": [
    "print(printing.getTotalCylinders())\n",
    "print(s1.getTotalCylinders())"
   ]
  },
  {
   "cell_type": "code",
   "execution_count": null,
   "metadata": {},
   "outputs": [],
   "source": []
  },
  {
   "cell_type": "code",
   "execution_count": null,
   "metadata": {},
   "outputs": [],
   "source": []
  },
  {
   "cell_type": "code",
   "execution_count": null,
   "metadata": {},
   "outputs": [],
   "source": []
  }
 ],
 "metadata": {
  "kernelspec": {
   "display_name": "Python 3",
   "language": "python",
   "name": "python3"
  },
  "language_info": {
   "codemirror_mode": {
    "name": "ipython",
    "version": 3
   },
   "file_extension": ".py",
   "mimetype": "text/x-python",
   "name": "python",
   "nbconvert_exporter": "python",
   "pygments_lexer": "ipython3",
   "version": "3.6.5"
  }
 },
 "nbformat": 4,
 "nbformat_minor": 2
}
